{
 "cells": [
  {
   "cell_type": "code",
   "execution_count": 4,
   "metadata": {},
   "outputs": [
    {
     "name": "stdout",
     "output_type": "stream",
     "text": [
      "The adjacency List representing the graph is:\n",
      "{0: [1, 3], 1: [0, 2, 3], 2: [4, 1, 5], 3: [4, 0, 1], 4: [2, 3, 5], 5: [4, 2]}\n",
      "BFS traversal of graph with source 0 is:\n",
      "0-->1-->3-->2-->4-->5-->"
     ]
    }
   ],
   "source": [
    "from queue import Queue\n",
    "graph = {0:[1,3], 1:[0,2,3], 2:[4,1,5], 3:[4,0,1], 4:[2,3,5], 5:[4,2]}\n",
    "print(\"The adjacency List representing the graph is:\")\n",
    "print(graph)\n",
    "\n",
    "def bfs(graph, source):\n",
    "    Q = Queue()\n",
    "    visited_vertices = set()\n",
    "    Q.put(source)\n",
    "    visited_vertices.update({0})\n",
    "    while not Q.empty():\n",
    "         vertex = Q.get()\n",
    "         print(vertex, end=\"-->\")\n",
    "         for u in graph[vertex]:\n",
    "            if u not in visited_vertices:\n",
    "                Q.put(u)\n",
    "                visited_vertices.update({u})\n",
    "print(\"BFS traversal of graph with source 0 is:\")\n",
    "bfs(graph, 0)"
   ]
  },
  {
   "cell_type": "code",
   "execution_count": 5,
   "metadata": {},
   "outputs": [
    {
     "name": "stdout",
     "output_type": "stream",
     "text": [
      "['D', 'C', 'E', 'H', 'G', 'F', 'S', 'A', 'B']\n"
     ]
    }
   ],
   "source": [
    "\n",
    "graph1 ={\n",
    "    'A' :['B','S'],\n",
    "    'B' :['A'],\n",
    "    'C' :['D','E','F','S'],\n",
    "    'D' :['C'],\n",
    "    'E' :['C','H'],\n",
    "    'F' :['C','G'],\n",
    "    'G' :['F','S'],\n",
    "    'H' :['E','G'],\n",
    "    'S' :['A','C','G'],\n",
    "}\n",
    "def dfs(graph, node, visited):\n",
    "    if node not in visited:\n",
    "        visited.append(node)\n",
    "        for k in graph[node]:\n",
    "            dfs(graph,k, visited)\n",
    "    return visited\n",
    "\n",
    "visited =dfs(graph1,'D',[])\n",
    "print(visited)\n"
   ]
  },
  {
   "cell_type": "code",
   "execution_count": 6,
   "metadata": {},
   "outputs": [
    {
     "ename": "SyntaxError",
     "evalue": "unmatched ')' (2129954600.py, line 32)",
     "output_type": "error",
     "traceback": [
      "\u001b[0;36m  Cell \u001b[0;32mIn[6], line 32\u001b[0;36m\u001b[0m\n\u001b[0;31m    dtype =[('move',str,1),('position',list),('head',int)])\u001b[0m\n\u001b[0m                                                          ^\u001b[0m\n\u001b[0;31mSyntaxError\u001b[0m\u001b[0;31m:\u001b[0m unmatched ')'\n"
     ]
    }
   ],
   "source": [
    "from copy import deepcopy\n",
    "import numpy as np\n",
    "import time\n",
    "\n",
    "def bestsolution(state):\n",
    "    bestsol =np.array([], int).reshape(-1,9)\n",
    "    count =len(state)-1\n",
    "    while count != -1:\n",
    "        bestsol =np.insert(bestsol,0, state[count]['puzzle'],0)\n",
    "        count =(state[count]['parent'])\n",
    "    return bestsol.reshape(-1,3,3)\n",
    "def all(checkarray):\n",
    "    set=[]\n",
    "    for it in set:\n",
    "        for checkarray in it:\n",
    "            return 1\n",
    "        else:\n",
    "            return 0\n",
    "\n",
    "def misplaced_titles(puzzle,goal):\n",
    "    mscost =np.sum(puzzle !=goal) -1\n",
    "    return mscost if mscost >0 else 0\n",
    "\n",
    "def coordinates(puzzle):\n",
    "    pos =np.array(range(9))\n",
    "    for p,q in enumerate(puzzle):\n",
    "        pos[q] =p\n",
    "    return pos\n",
    "\n",
    "def evaluate_misplaced(puzzle, goal):\n",
    "    steps =np.array([('up',[0,1,2],-3),('down',[6,7,8],3),('left',[0,3,6],-1),('right',[2,5,8],1)])\n",
    "    dtype =[('move',str,1),('position',list),('head',int)])\n",
    "    dtstate =[('puzzle',list),('parent',int),('gn',int),('hn',int)]\n",
    "    costg =coordinates(goal)\n",
    "\n",
    "    parent=-1\n",
    "    gn =0\n",
    "    hn =misplaced_titles(coordinates(puzzle),costg)\n",
    "    state =np.array([(puzzle,parent,gn,hn)],dtstate)\n",
    "\n",
    "    dtpriority =[('position',int),('fn',int)]\n",
    "    priority =np.array([(0,hn)],dtpriority)\n",
    "\n",
    "    while 1:\n",
    "        priority =np.sort(priority,kind ='mergesort',order =['fn','position'])\n",
    "        position,fn=priority[0]\n",
    "\n",
    "        priority =np.delete(priority,0,0)\n",
    "        puzzle,parent,gn,hn =state[position]\n",
    "        puzzle =np.array(puzzle)\n",
    "\n",
    "        blank =int(np.where(puzzle==0)[0])\n",
    "\n",
    "        gn =gn +1\n",
    "        c =1\n",
    "        start_time =time.time()\n",
    "        for s in steps:\n",
    "            c =c+1\n",
    "            if blank not in s['position']:\n",
    "                openstates =deepcopy(puzzle) openstates[blank]\n",
    "\n",
    "\n",
    "\n"
   ]
  },
  {
   "cell_type": "code",
   "execution_count": null,
   "metadata": {},
   "outputs": [],
   "source": []
  }
 ],
 "metadata": {
  "kernelspec": {
   "display_name": "Python 3",
   "language": "python",
   "name": "python3"
  },
  "language_info": {
   "codemirror_mode": {
    "name": "ipython",
    "version": 3
   },
   "file_extension": ".py",
   "mimetype": "text/x-python",
   "name": "python",
   "nbconvert_exporter": "python",
   "pygments_lexer": "ipython3",
   "version": "3.10.13"
  }
 },
 "nbformat": 4,
 "nbformat_minor": 2
}
